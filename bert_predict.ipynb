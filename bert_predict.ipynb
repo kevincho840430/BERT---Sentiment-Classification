{
 "cells": [
  {
   "cell_type": "markdown",
   "metadata": {},
   "source": [
    "# Bert Predict"
   ]
  },
  {
   "cell_type": "markdown",
   "metadata": {},
   "source": [
    "## 安裝套件"
   ]
  },
  {
   "cell_type": "code",
   "execution_count": 1,
   "metadata": {},
   "outputs": [
    {
     "name": "stdout",
     "output_type": "stream",
     "text": [
      "Requirement already satisfied: tensorflow_hub in /opt/conda/lib/python3.7/site-packages (0.6.0)\n",
      "Requirement already satisfied: protobuf>=3.4.0 in /opt/conda/lib/python3.7/site-packages (from tensorflow_hub) (3.7.1)\n",
      "Requirement already satisfied: numpy>=1.12.0 in /opt/conda/lib/python3.7/site-packages (from tensorflow_hub) (1.16.2)\n",
      "Requirement already satisfied: six>=1.10.0 in /opt/conda/lib/python3.7/site-packages (from tensorflow_hub) (1.12.0)\n",
      "Requirement already satisfied: setuptools in /opt/conda/lib/python3.7/site-packages (from protobuf>=3.4.0->tensorflow_hub) (41.2.0)\n",
      "Requirement already satisfied: bert-tensorflow in /opt/conda/lib/python3.7/site-packages (1.0.1)\n",
      "Requirement already satisfied: six in /opt/conda/lib/python3.7/site-packages (from bert-tensorflow) (1.12.0)\n"
     ]
    }
   ],
   "source": [
    "!pip install tensorflow_hub\n",
    "!pip install bert-tensorflow"
   ]
  },
  {
   "cell_type": "markdown",
   "metadata": {},
   "source": [
    "# Import 套件"
   ]
  },
  {
   "cell_type": "code",
   "execution_count": 2,
   "metadata": {},
   "outputs": [
    {
     "name": "stderr",
     "output_type": "stream",
     "text": [
      "WARNING: Logging before flag parsing goes to stderr.\n",
      "W0925 14:19:58.204302 140053969266432 deprecation_wrapper.py:119] From /opt/conda/lib/python3.7/site-packages/bert/optimization.py:87: The name tf.train.Optimizer is deprecated. Please use tf.compat.v1.train.Optimizer instead.\n",
      "\n"
     ]
    }
   ],
   "source": [
    "import tensorflow as tf\n",
    "import numpy as np\n",
    "import tensorflow_hub as hub\n",
    "import sys\n",
    "import pandas as pd\n",
    "\n",
    "#引入事先訓練好的分類文本\n",
    "from bert_cnn import main"
   ]
  },
  {
   "cell_type": "markdown",
   "metadata": {},
   "source": [
    "# 輸入想放入的句子"
   ]
  },
  {
   "cell_type": "code",
   "execution_count": 42,
   "metadata": {},
   "outputs": [
    {
     "name": "stdin",
     "output_type": "stream",
     "text": [
      "說說你的評價 ： 很棒\n"
     ]
    }
   ],
   "source": [
    "example = input ('說說你的評價 ：')"
   ]
  },
  {
   "cell_type": "code",
   "execution_count": 43,
   "metadata": {},
   "outputs": [],
   "source": [
    "example = np.array([example])"
   ]
  },
  {
   "cell_type": "code",
   "execution_count": 44,
   "metadata": {},
   "outputs": [
    {
     "data": {
      "text/plain": [
       "array(['很棒'], dtype='<U2')"
      ]
     },
     "execution_count": 44,
     "metadata": {},
     "output_type": "execute_result"
    }
   ],
   "source": [
    "example"
   ]
  },
  {
   "cell_type": "code",
   "execution_count": 11,
   "metadata": {},
   "outputs": [],
   "source": [
    "#pd作法\n",
    "#df = pd.DataFrame([example], columns=['comment'])\n",
    "#df\n",
    "#sentences = df.comment[:]\n",
    "#sentences.values"
   ]
  },
  {
   "cell_type": "code",
   "execution_count": 46,
   "metadata": {},
   "outputs": [],
   "source": [
    "#將輸入的句子轉為向量\n",
    "sentence = main(example)"
   ]
  },
  {
   "cell_type": "code",
   "execution_count": 47,
   "metadata": {},
   "outputs": [
    {
     "data": {
      "text/plain": [
       "array([[[-0.47314   ,  0.5895008 ,  0.37220573, ...,  0.27962697,\n",
       "          0.14613274, -0.6989071 ],\n",
       "        [-0.4923673 ,  0.40032133,  1.2940459 , ..., -0.93705535,\n",
       "         -0.32914206, -0.10709616],\n",
       "        [ 0.19287743,  0.20480348, -0.00138085, ..., -0.32624334,\n",
       "         -0.3957036 , -0.37289268],\n",
       "        ...,\n",
       "        [-0.40753874, -0.02031885, -0.37761837, ...,  0.29230505,\n",
       "         -0.32584617, -0.2878836 ],\n",
       "        [-0.46011996, -0.00291494, -0.24021834, ...,  0.22546332,\n",
       "         -0.43949908, -0.26877198],\n",
       "        [-0.4262016 ,  0.00367364, -0.37465712, ...,  0.27258393,\n",
       "         -0.304089  , -0.31049332]]], dtype=float32)"
      ]
     },
     "execution_count": 47,
     "metadata": {},
     "output_type": "execute_result"
    }
   ],
   "source": [
    "sentence"
   ]
  },
  {
   "cell_type": "code",
   "execution_count": 48,
   "metadata": {},
   "outputs": [
    {
     "data": {
      "text/plain": [
       "array([[-0.47314   ,  0.5895008 ,  0.37220573, ...,  0.27962697,\n",
       "         0.14613274, -0.6989071 ],\n",
       "       [-0.4923673 ,  0.40032133,  1.2940459 , ..., -0.93705535,\n",
       "        -0.32914206, -0.10709616],\n",
       "       [ 0.19287743,  0.20480348, -0.00138085, ..., -0.32624334,\n",
       "        -0.3957036 , -0.37289268],\n",
       "       ...,\n",
       "       [-0.40753874, -0.02031885, -0.37761837, ...,  0.29230505,\n",
       "        -0.32584617, -0.2878836 ],\n",
       "       [-0.46011996, -0.00291494, -0.24021834, ...,  0.22546332,\n",
       "        -0.43949908, -0.26877198],\n",
       "       [-0.4262016 ,  0.00367364, -0.37465712, ...,  0.27258393,\n",
       "        -0.304089  , -0.31049332]], dtype=float32)"
      ]
     },
     "execution_count": 48,
     "metadata": {},
     "output_type": "execute_result"
    }
   ],
   "source": [
    "#reshap成模型用的格式\n",
    "sentence.reshape(200,768)"
   ]
  },
  {
   "cell_type": "markdown",
   "metadata": {},
   "source": [
    "# Load Model進行predict"
   ]
  },
  {
   "cell_type": "code",
   "execution_count": 8,
   "metadata": {},
   "outputs": [
    {
     "name": "stderr",
     "output_type": "stream",
     "text": [
      "Using TensorFlow backend.\n",
      "W0925 14:21:14.318935 140053969266432 deprecation_wrapper.py:119] From /opt/conda/lib/python3.7/site-packages/keras/backend/tensorflow_backend.py:4138: The name tf.random_uniform is deprecated. Please use tf.random.uniform instead.\n",
      "\n",
      "W0925 14:21:14.346956 140053969266432 deprecation_wrapper.py:119] From /opt/conda/lib/python3.7/site-packages/keras/backend/tensorflow_backend.py:131: The name tf.get_default_graph is deprecated. Please use tf.compat.v1.get_default_graph instead.\n",
      "\n",
      "W0925 14:21:14.352808 140053969266432 deprecation.py:506] From /opt/conda/lib/python3.7/site-packages/keras/backend/tensorflow_backend.py:3445: calling dropout (from tensorflow.python.ops.nn_ops) with keep_prob is deprecated and will be removed in a future version.\n",
      "Instructions for updating:\n",
      "Please use `rate` instead of `keep_prob`. Rate should be set to `rate = 1 - keep_prob`.\n",
      "W0925 14:21:14.364365 140053969266432 deprecation_wrapper.py:119] From /opt/conda/lib/python3.7/site-packages/keras/backend/tensorflow_backend.py:3976: The name tf.nn.max_pool is deprecated. Please use tf.nn.max_pool2d instead.\n",
      "\n",
      "W0925 14:21:15.695988 140053969266432 deprecation.py:323] From /opt/conda/lib/python3.7/site-packages/tensorflow/python/ops/nn_impl.py:180: add_dispatch_support.<locals>.wrapper (from tensorflow.python.ops.array_ops) is deprecated and will be removed in a future version.\n",
      "Instructions for updating:\n",
      "Use tf.where in 2.0, which has the same broadcast rule as np.where\n"
     ]
    }
   ],
   "source": [
    "from keras.models import load_model\n",
    "model = load_model('bert.h5')"
   ]
  },
  {
   "cell_type": "markdown",
   "metadata": {},
   "source": [
    "# 設定一threashold 如果大於則為好的句子，反之則為壞的句子"
   ]
  },
  {
   "cell_type": "code",
   "execution_count": 49,
   "metadata": {},
   "outputs": [
    {
     "name": "stdout",
     "output_type": "stream",
     "text": [
      "[[0.71494377]]\n",
      "good sentence\n"
     ]
    }
   ],
   "source": [
    "#設定一threashold \n",
    "threashold = 0.5\n",
    "#預測字\n",
    "predict = model.predict(sentence)\n",
    "print(predict)\n",
    "if predict > threashold:\n",
    "    print('good sentence')\n",
    "else:\n",
    "    print('not very well')"
   ]
  }
 ],
 "metadata": {
  "kernelspec": {
   "display_name": "Python 3",
   "language": "python",
   "name": "python3"
  },
  "language_info": {
   "codemirror_mode": {
    "name": "ipython",
    "version": 3
   },
   "file_extension": ".py",
   "mimetype": "text/x-python",
   "name": "python",
   "nbconvert_exporter": "python",
   "pygments_lexer": "ipython3",
   "version": "3.7.3"
  }
 },
 "nbformat": 4,
 "nbformat_minor": 4
}
